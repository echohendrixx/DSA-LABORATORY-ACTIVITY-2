{
 "cells": [
  {
   "cell_type": "markdown",
   "metadata": {},
   "source": [
    "### EXERCISE # 1"
   ]
  },
  {
   "cell_type": "code",
   "execution_count": 18,
   "metadata": {},
   "outputs": [
    {
     "name": "stdout",
     "output_type": "stream",
     "text": [
      "3 raised to 4 = 81\n"
     ]
    }
   ],
   "source": [
    "def power(n, p):\n",
    "    # Base case: any number raised to the power of 0 is 1\n",
    "    if p == 0:\n",
    "        return 1\n",
    "    # Recursive case: multiply base by result of power(n, p-1)\n",
    "    return n * power(n, p-1)\n",
    "\n",
    "# Get input for base and exponent from the user\n",
    "base = int(input(\"Please input the base of the number: \"))\n",
    "exponent = int(input(\"Please input the exponent: \"))\n",
    "\n",
    "# Calculate the power and print the result\n",
    "exponential = power(base, exponent)\n",
    "print(f\"{base} raised to {exponent} = {exponential}\")\n"
   ]
  },
  {
   "cell_type": "markdown",
   "metadata": {},
   "source": [
    "### EXERCISE # 2"
   ]
  },
  {
   "cell_type": "code",
   "execution_count": 19,
   "metadata": {},
   "outputs": [
    {
     "name": "stdout",
     "output_type": "stream",
     "text": [
      "Array size: 4\n",
      "Elements: [2, 4, 6, 8]\n",
      "8\n",
      "64\n",
      "216\n",
      "512\n"
     ]
    }
   ],
   "source": [
    "def elem(array):\n",
    "    # Read 'array' integers from input and return them as a list of integers\n",
    "    elmnts = list(map(int, input(f\"Enter {array} elements separated by space: \").split()))\n",
    "    return elmnts\n",
    "\n",
    "# Get the size of the array from user input\n",
    "arraysize = int(input(\"Input the size of the array: \"))\n",
    "# Get the elements from user input\n",
    "elements = elem(arraysize)\n",
    "\n",
    "# Print the size of the array and the elements entered by the user\n",
    "print(f\"Array size: {arraysize}\" f\"\\nElements: {elements}\")\n",
    "\n",
    "# Calculate and print the cube of each element in the array\n",
    "for i in elements:\n",
    "    print(i ** 3)  # Each element raised to the power of 3"
   ]
  },
  {
   "cell_type": "markdown",
   "metadata": {},
   "source": [
    "### EXERCISE # 3"
   ]
  },
  {
   "cell_type": "code",
   "execution_count": 20,
   "metadata": {},
   "outputs": [
    {
     "name": "stdout",
     "output_type": "stream",
     "text": [
      "Enter the side length of the square: 9\n",
      "xxxxxxxxx\n",
      "x       x\n",
      "x       x\n",
      "x       x\n",
      "x       x\n",
      "x       x\n",
      "x       x\n",
      "x       x\n",
      "xxxxxxxxx\n"
     ]
    }
   ],
   "source": [
    "# Get user input for the size of the shape\n",
    "sidelength = int(input(\"Enter the side length of the square: \"))\n",
    "\n",
    "print(f\"Enter the side length of the square: {sidelength}\")\n",
    "\n",
    "# Check for valid side length\n",
    "if sidelength <= 0:\n",
    "    print(\"Please enter a positive integer for the side length.\")\n",
    "else:\n",
    "    # Print the first row as a full line of 'x'\n",
    "    print(\"x\" * sidelength)\n",
    "\n",
    "    # Print the middle rows with spaces between 'x', if the side length is greater than 2\n",
    "for i in range(1, sidelength - 1):\n",
    "    spaces = \" \" * (sidelength - 2)  # Calculate spaces between the 'x's\n",
    "    print(f\"x{spaces}x\")      # Print 'x' at the start and end\n",
    "\n",
    "    # Print the last row as a full line of 'x', if sidelength is greater than 1\n",
    "if sidelength >= 2:\n",
    "    print(\"x\" * sidelength)\n"
   ]
  },
  {
   "cell_type": "markdown",
   "metadata": {},
   "source": [
    "### EXERCISE # 4"
   ]
  },
  {
   "cell_type": "code",
   "execution_count": 22,
   "metadata": {},
   "outputs": [
    {
     "name": "stdout",
     "output_type": "stream",
     "text": [
      "Enter the height of the triangle: 6\n",
      "******\n",
      "*****\n",
      "****\n",
      "***\n",
      "**\n",
      "*\n"
     ]
    }
   ],
   "source": [
    "# Get user input for the length\n",
    "length = int(input(\"Length: \"))\n",
    "\n",
    "# Output the height of the triangle entered by the user\n",
    "print(f\"Enter the height of the triangle: {length}\")\n",
    "\n",
    "# Loop from length down to 1 (inclusive)\n",
    "for i in range(length, 0, -1):\n",
    "    # Print a row of '*' characters, where the number of '*' is equal to the current value of i\n",
    "    print(\"*\" * (i))"
   ]
  }
 ],
 "metadata": {
  "kernelspec": {
   "display_name": "Python 3",
   "language": "python",
   "name": "python3"
  },
  "language_info": {
   "codemirror_mode": {
    "name": "ipython",
    "version": 3
   },
   "file_extension": ".py",
   "mimetype": "text/x-python",
   "name": "python",
   "nbconvert_exporter": "python",
   "pygments_lexer": "ipython3",
   "version": "3.12.0"
  }
 },
 "nbformat": 4,
 "nbformat_minor": 2
}
